{
 "cells": [
  {
   "cell_type": "markdown",
   "metadata": {},
   "source": [
    "# Visualization of Stock Trading"
   ]
  },
  {
   "cell_type": "code",
   "execution_count": 1,
   "metadata": {},
   "outputs": [],
   "source": [
    "# import libraries\n",
    "import pandas as pd\n",
    "import numpy as np\n",
    "import altair as alt\n",
    "import seaborn as sns"
   ]
  },
  {
   "cell_type": "markdown",
   "metadata": {},
   "source": [
    "## Set relevant parameters"
   ]
  },
  {
   "cell_type": "code",
   "execution_count": 34,
   "metadata": {},
   "outputs": [],
   "source": [
    "train_stock = 'data/GOOGL.csv'\n",
    "val_stock = 'data/GOOGL_2018.csv'\n",
    "window_size = 10\n",
    "batch_size = 16\n",
    "ep_count = 10\n",
    "model_name = 'model_GOOGL'\n",
    "pretrained = False\n",
    "debug = False"
   ]
  },
  {
   "cell_type": "markdown",
   "metadata": {},
   "source": [
    "## Load Dataset into pandas DataFrame"
   ]
  },
  {
   "cell_type": "code",
   "execution_count": 35,
   "metadata": {},
   "outputs": [
    {
     "data": {
      "text/html": [
       "<div>\n",
       "<style scoped>\n",
       "    .dataframe tbody tr th:only-of-type {\n",
       "        vertical-align: middle;\n",
       "    }\n",
       "\n",
       "    .dataframe tbody tr th {\n",
       "        vertical-align: top;\n",
       "    }\n",
       "\n",
       "    .dataframe thead th {\n",
       "        text-align: right;\n",
       "    }\n",
       "</style>\n",
       "<table border=\"1\" class=\"dataframe\">\n",
       "  <thead>\n",
       "    <tr style=\"text-align: right;\">\n",
       "      <th></th>\n",
       "      <th>date</th>\n",
       "      <th>actual</th>\n",
       "    </tr>\n",
       "  </thead>\n",
       "  <tbody>\n",
       "    <tr>\n",
       "      <th>0</th>\n",
       "      <td>2017-08-10</td>\n",
       "      <td>923.590027</td>\n",
       "    </tr>\n",
       "    <tr>\n",
       "      <th>1</th>\n",
       "      <td>2017-08-11</td>\n",
       "      <td>930.090027</td>\n",
       "    </tr>\n",
       "    <tr>\n",
       "      <th>2</th>\n",
       "      <td>2017-08-14</td>\n",
       "      <td>938.929993</td>\n",
       "    </tr>\n",
       "    <tr>\n",
       "      <th>3</th>\n",
       "      <td>2017-08-15</td>\n",
       "      <td>938.080017</td>\n",
       "    </tr>\n",
       "    <tr>\n",
       "      <th>4</th>\n",
       "      <td>2017-08-16</td>\n",
       "      <td>944.270020</td>\n",
       "    </tr>\n",
       "  </tbody>\n",
       "</table>\n",
       "</div>"
      ],
      "text/plain": [
       "         date      actual\n",
       "0  2017-08-10  923.590027\n",
       "1  2017-08-11  930.090027\n",
       "2  2017-08-14  938.929993\n",
       "3  2017-08-15  938.080017\n",
       "4  2017-08-16  944.270020"
      ]
     },
     "execution_count": 35,
     "metadata": {},
     "output_type": "execute_result"
    }
   ],
   "source": [
    "# read csv into dataframe\n",
    "df = pd.read_csv(val_stock)\n",
    "\n",
    "# filter out the desired features\n",
    "df = df[['Date', 'Adj Close']]\n",
    "\n",
    "# rename feature column names\n",
    "df = df.rename(columns={'Adj Close': 'actual', 'Date': 'date'})\n",
    "\n",
    "df.head()"
   ]
  },
  {
   "cell_type": "code",
   "execution_count": 36,
   "metadata": {},
   "outputs": [],
   "source": [
    "# convert dates from object to DateTime type\n",
    "dates = df['date']\n",
    "dates = pd.to_datetime(dates, infer_datetime_format=True)\n",
    "df['date'] = dates"
   ]
  },
  {
   "cell_type": "code",
   "execution_count": 37,
   "metadata": {},
   "outputs": [
    {
     "name": "stdout",
     "output_type": "stream",
     "text": [
      "<class 'pandas.core.frame.DataFrame'>\n",
      "RangeIndex: 253 entries, 0 to 252\n",
      "Data columns (total 2 columns):\n",
      "date      253 non-null datetime64[ns]\n",
      "actual    253 non-null float64\n",
      "dtypes: datetime64[ns](1), float64(1)\n",
      "memory usage: 4.0 KB\n"
     ]
    },
    {
     "data": {
      "text/html": [
       "<div>\n",
       "<style scoped>\n",
       "    .dataframe tbody tr th:only-of-type {\n",
       "        vertical-align: middle;\n",
       "    }\n",
       "\n",
       "    .dataframe tbody tr th {\n",
       "        vertical-align: top;\n",
       "    }\n",
       "\n",
       "    .dataframe thead th {\n",
       "        text-align: right;\n",
       "    }\n",
       "</style>\n",
       "<table border=\"1\" class=\"dataframe\">\n",
       "  <thead>\n",
       "    <tr style=\"text-align: right;\">\n",
       "      <th></th>\n",
       "      <th>date</th>\n",
       "      <th>actual</th>\n",
       "    </tr>\n",
       "  </thead>\n",
       "  <tbody>\n",
       "    <tr>\n",
       "      <th>0</th>\n",
       "      <td>2017-08-10</td>\n",
       "      <td>923.590027</td>\n",
       "    </tr>\n",
       "    <tr>\n",
       "      <th>1</th>\n",
       "      <td>2017-08-11</td>\n",
       "      <td>930.090027</td>\n",
       "    </tr>\n",
       "    <tr>\n",
       "      <th>2</th>\n",
       "      <td>2017-08-14</td>\n",
       "      <td>938.929993</td>\n",
       "    </tr>\n",
       "    <tr>\n",
       "      <th>3</th>\n",
       "      <td>2017-08-15</td>\n",
       "      <td>938.080017</td>\n",
       "    </tr>\n",
       "    <tr>\n",
       "      <th>4</th>\n",
       "      <td>2017-08-16</td>\n",
       "      <td>944.270020</td>\n",
       "    </tr>\n",
       "  </tbody>\n",
       "</table>\n",
       "</div>"
      ],
      "text/plain": [
       "        date      actual\n",
       "0 2017-08-10  923.590027\n",
       "1 2017-08-11  930.090027\n",
       "2 2017-08-14  938.929993\n",
       "3 2017-08-15  938.080017\n",
       "4 2017-08-16  944.270020"
      ]
     },
     "execution_count": 37,
     "metadata": {},
     "output_type": "execute_result"
    }
   ],
   "source": [
    "df.info()\n",
    "df.head()"
   ]
  },
  {
   "cell_type": "markdown",
   "metadata": {},
   "source": [
    "## Visualization of actions taken by Trading Bot"
   ]
  },
  {
   "cell_type": "code",
   "execution_count": 38,
   "metadata": {},
   "outputs": [],
   "source": [
    "def visualize(df, history):\n",
    "    # add history to dataframe\n",
    "    position = [history[0][0]] + [x[0] for x in history]\n",
    "    actions = ['HOLD'] + [x[1] for x in history]\n",
    "    df['position'] = position\n",
    "    df['action'] = actions\n",
    "    \n",
    "    # specify y-axis scale for stock prices\n",
    "    scale = alt.Scale(domain=(min(min(df['actual']), min(df['predicted'])) - 50, max(max(df['actual']), max(df['predicted'])) + 50), clamp=True)\n",
    "    \n",
    "    # plot a line chart for actual stock prices\n",
    "    actual = alt.Chart(df).mark_line(\n",
    "        color='red',\n",
    "        opacity=0.5\n",
    "    ).encode(\n",
    "        x='date:T',\n",
    "        y=alt.Y('actual', axis=alt.Axis(format='$.2f', title='Price'), scale=scale)\n",
    "    ).interactive(\n",
    "        bind_y=False\n",
    "    ).properties(height=300, width=1000)\n",
    "    \n",
    "    # plot the BUY and SELL actions as points\n",
    "    points = alt.Chart(df).transform_filter(\n",
    "        alt.datum.action != 'HOLD'\n",
    "    ).mark_point().encode(\n",
    "        x=alt.X('date:T', axis=alt.Axis(title='Date')),\n",
    "        y=alt.Y('position', axis=alt.Axis(format='$.2f', title='Price'), scale=scale),\n",
    "        color='action'\n",
    "    ).interactive(bind_y=False)\n",
    "\n",
    "    # merge the two charts\n",
    "    chart = alt.layer(actual, points, title=val_stock).properties(height=300, width=1000)\n",
    "    \n",
    "    return chart"
   ]
  },
  {
   "cell_type": "markdown",
   "metadata": {},
   "source": [
    "## Training the model"
   ]
  },
  {
   "cell_type": "code",
   "execution_count": 39,
   "metadata": {},
   "outputs": [
    {
     "name": "stderr",
     "output_type": "stream",
     "text": [
      "2018-12-31 17:27:16 ubuntu root[32111] DEBUG switching to TensorFlow for CPU\n",
      "Episode 1/10: 100%|██████████| 1760/1760 [00:20<00:00, 85.98it/s]\n",
      "2018-12-31 17:27:37 ubuntu root[32111] INFO Episode 1/10 - Train Position: +$473.45  Val Position: +$1.15  Train Loss: 0.5512  (~37.2028 secs)\n",
      "Episode 1/10: 100%|██████████| 1760/1760 [00:19<00:00, 88.58it/s]\n",
      "2018-12-31 17:27:56 ubuntu root[32111] INFO Episode 1/10 - Train Position: +$1204.55  Val Position: -$135.77  Train Loss: 0.2382  (~34.9744 secs)\n",
      "Episode 1/10: 100%|██████████| 1760/1760 [00:20<00:00, 84.35it/s]\n",
      "2018-12-31 17:28:17 ubuntu root[32111] INFO Episode 1/10 - Train Position: +$705.36  Val Position: +$25.10  Train Loss: 0.4046  (~34.3783 secs)\n",
      "Episode 1/10: 100%|██████████| 1760/1760 [00:19<00:00, 90.11it/s]\n",
      "2018-12-31 17:28:37 ubuntu root[32111] INFO Episode 1/10 - Train Position: +$596.32  Val Position: +$1584.92  Train Loss: 0.4007  (~36.4967 secs)\n",
      "Episode 1/10: 100%|██████████| 1760/1760 [00:19<00:00, 90.57it/s]\n",
      "2018-12-31 17:28:57 ubuntu root[32111] INFO Episode 1/10 - Train Position: +$551.27  Val Position: -$52.85  Train Loss: 0.7809  (~36.1449 secs)\n",
      "Episode 1/10: 100%|██████████| 1760/1760 [00:19<00:00, 90.50it/s]\n",
      "2018-12-31 17:29:16 ubuntu root[32111] INFO Episode 1/10 - Train Position: +$383.13  Val Position: +$2098.24  Train Loss: 0.2813  (~36.1754 secs)\n",
      "Episode 1/10: 100%|██████████| 1760/1760 [00:19<00:00, 90.33it/s]\n",
      "2018-12-31 17:29:36 ubuntu root[32111] INFO Episode 1/10 - Train Position: +$171.69  Val Position: +$81.70  Train Loss: 1.0757  (~36.1691 secs)\n",
      "Episode 1/10: 100%|██████████| 1760/1760 [00:19<00:00, 90.00it/s]\n",
      "2018-12-31 17:29:55 ubuntu root[32111] INFO Episode 1/10 - Train Position: +$375.46  Val Position: -$63.51  Train Loss: 0.3759  (~36.0187 secs)\n",
      "Episode 1/10: 100%|██████████| 1760/1760 [00:19<00:00, 90.09it/s]\n",
      "2018-12-31 17:30:15 ubuntu root[32111] INFO Episode 1/10 - Train Position: +$751.09  Val Position: +$94.68  Train Loss: 0.3771  (~36.0721 secs)\n",
      "Episode 1/10: 100%|██████████| 1760/1760 [00:19<00:00, 91.41it/s]\n",
      "2018-12-31 17:30:34 ubuntu root[32111] INFO Episode 1/10 - Train Position: +$741.74  Val Position: +$411.69  Train Loss: 0.4528  (~36.0494 secs)\n"
     ]
    }
   ],
   "source": [
    "import logging\n",
    "import coloredlogs\n",
    "\n",
    "from train import *\n",
    "from evaluate import show_eval_result\n",
    "\n",
    "coloredlogs.install(level='DEBUG')\n",
    "switch_k_backend_device()\n",
    "\n",
    "agent = Agent(window_size, pretrained=pretrained, model_name=model_name)\n",
    "train_data = get_stock_data(train_stock)\n",
    "val_data = get_stock_data(val_stock)\n",
    "\n",
    "initial_offset = val_data[1] - val_data[0]\n",
    "\n",
    "for episode in range(1, ep_count + 1):\n",
    "    train_result = train_model(agent, 1, train_data, ep_count=ep_count,\n",
    "                                batch_size=batch_size, window_size=window_size)\n",
    "    val_result, _ = evaluate_model(agent, val_data, window_size, debug)\n",
    "    show_train_result(train_result, val_result, initial_offset)"
   ]
  },
  {
   "cell_type": "markdown",
   "metadata": {},
   "source": [
    "## Plotting the evaluation actions"
   ]
  },
  {
   "cell_type": "code",
   "execution_count": null,
   "metadata": {},
   "outputs": [],
   "source": [
    "val_result, history = evaluate_model(agent, val_data, window_size, debug)\n",
    "show_eval_result(model_name, val_result, initial_offset)\n",
    "chart = visualize(df, history)\n",
    "chart"
   ]
  },
  {
   "cell_type": "code",
   "execution_count": null,
   "metadata": {},
   "outputs": [],
   "source": []
  }
 ],
 "metadata": {
  "kernelspec": {
   "display_name": "Python 3",
   "language": "python",
   "name": "python3"
  },
  "language_info": {
   "codemirror_mode": {
    "name": "ipython",
    "version": 3
   },
   "file_extension": ".py",
   "mimetype": "text/x-python",
   "name": "python",
   "nbconvert_exporter": "python",
   "pygments_lexer": "ipython3",
   "version": "3.6.7"
  }
 },
 "nbformat": 4,
 "nbformat_minor": 2
}
